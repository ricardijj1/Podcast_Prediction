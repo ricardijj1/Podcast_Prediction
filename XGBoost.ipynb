{
 "cells": [
  {
   "cell_type": "code",
   "execution_count": 1,
   "metadata": {},
   "outputs": [],
   "source": [
    "from xgboost import XGBRegressor\n",
    "from sklearn.model_selection import RandomizedSearchCV\n",
    "from sklearn.metrics import mean_squared_error, r2_score\n",
    "from scipy.stats import randint\n",
    "\n",
    "import pandas as pd\n",
    "from sklearn.model_selection import train_test_split\n",
    "from sklearn.model_selection import GridSearchCV"
   ]
  },
  {
   "cell_type": "markdown",
   "metadata": {},
   "source": [
    "# XGBoost with default hyperparameters"
   ]
  },
  {
   "cell_type": "code",
   "execution_count": 2,
   "metadata": {},
   "outputs": [],
   "source": [
    "# Load your cleaned dataset \n",
    "df = pd.read_csv('/Users/sa21/Desktop/Podcast_Prediction/Data/processed/df_train_cleaned.csv')"
   ]
  },
  {
   "cell_type": "code",
   "execution_count": 3,
   "metadata": {},
   "outputs": [
    {
     "name": "stdout",
     "output_type": "stream",
     "text": [
      "XGBoost Default Evaluation:\n",
      "MSE: 170.072\n",
      "R² Score: 0.769\n"
     ]
    }
   ],
   "source": [
    "# Split target and features\n",
    "X = df.drop(columns=['Listening_Time_minutes'])\n",
    "y = df['Listening_Time_minutes']\n",
    "\n",
    "# Train-test split\n",
    "from sklearn.model_selection import train_test_split\n",
    "X_train, X_val, y_train, y_val = train_test_split(X, y, test_size=0.2, random_state=42)\n",
    "\n",
    "# Extract and store validation IDs\n",
    "id_val = X_val['id']\n",
    "X_train = X_train.drop(columns=['id'])\n",
    "X_val = X_val.drop(columns=['id'])\n",
    "\n",
    "# XGBOOST MODEL\n",
    "xgb_default = XGBRegressor(random_state=42, verbosity=0)\n",
    "xgb_default.fit(X_train, y_train)\n",
    "\n",
    "# Predict\n",
    "y_pred_xgb = xgb_default.predict(X_val)\n",
    "\n",
    "# Evaluate\n",
    "print(\"XGBoost Default Evaluation:\")\n",
    "print(f\"MSE: {mean_squared_error(y_val, y_pred_xgb):.3f}\")\n",
    "print(f\"R² Score: {r2_score(y_val, y_pred_xgb):.3f}\")\n",
    "\n",
    "# Save CSV\n",
    "df_xgb_default = pd.DataFrame({\n",
    "    'id': id_val.values,\n",
    "    'Listening_Time_minutes': y_pred_xgb\n",
    "})\n",
    "df_xgb_default.to_csv('/Users/sa21/Desktop/Podcast_Prediction/Data/predictions/xgb_default_predictions.csv', index=False)\n"
   ]
  },
  {
   "cell_type": "markdown",
   "metadata": {},
   "source": [
    "# XGBoost with Randomized Search"
   ]
  },
  {
   "cell_type": "code",
   "execution_count": 4,
   "metadata": {},
   "outputs": [
    {
     "name": "stdout",
     "output_type": "stream",
     "text": [
      "XGBoost RandomSearchCV Evaluation:\n",
      "MSE: 172.999\n",
      "R² Score: 0.765\n"
     ]
    }
   ],
   "source": [
    "\n",
    "# Sample a smaller training \n",
    "X_sample = X_train.sample(frac=0.15, random_state=42)\n",
    "y_sample = y_train.loc[X_sample.index]\n",
    "\n",
    "# Parameter space\n",
    "xgb_param_dist = {\n",
    "    'n_estimators': randint(100, 300),\n",
    "    'max_depth': [3, 5, 7, 10],\n",
    "    'learning_rate': [0.01, 0.05, 0.1, 0.2],\n",
    "    'subsample': [0.6, 0.8, 1.0],\n",
    "    'colsample_bytree': [0.6, 0.8, 1.0]\n",
    "}\n",
    "\n",
    "xgb_random_search = RandomizedSearchCV(\n",
    "    estimator=XGBRegressor(random_state=42, verbosity=0),\n",
    "    param_distributions=xgb_param_dist,\n",
    "    n_iter=10,\n",
    "    cv=2,\n",
    "    scoring='neg_mean_squared_error',\n",
    "    random_state=42,\n",
    "    n_jobs=-1\n",
    ")\n",
    "\n",
    "# Fit on sample\n",
    "xgb_random_search.fit(X_sample, y_sample)\n",
    "best_xgb_model = xgb_random_search.best_estimator_\n",
    "\n",
    "# Predict and evaluate\n",
    "y_pred_xgb_tuned = best_xgb_model.predict(X_val)\n",
    "print(\"XGBoost RandomSearchCV Evaluation:\")\n",
    "print(f\"MSE: {mean_squared_error(y_val, y_pred_xgb_tuned):.3f}\")\n",
    "print(f\"R² Score: {r2_score(y_val, y_pred_xgb_tuned):.3f}\")\n",
    "\n",
    "# Save CSV\n",
    "df_xgb_random = pd.DataFrame({\n",
    "    'id': id_val.values,\n",
    "    'Listening_Time_minutes': y_pred_xgb_tuned\n",
    "})\n",
    "df_xgb_random.to_csv('/Users/sa21/Desktop/Podcast_Prediction/Data/predictions/xgb_randomsearch_predictions.csv', index=False)\n",
    "\n",
    "\n",
    "\n"
   ]
  }
 ],
 "metadata": {
  "kernelspec": {
   "display_name": "base",
   "language": "python",
   "name": "python3"
  },
  "language_info": {
   "codemirror_mode": {
    "name": "ipython",
    "version": 3
   },
   "file_extension": ".py",
   "mimetype": "text/x-python",
   "name": "python",
   "nbconvert_exporter": "python",
   "pygments_lexer": "ipython3",
   "version": "3.12.2"
  }
 },
 "nbformat": 4,
 "nbformat_minor": 2
}
